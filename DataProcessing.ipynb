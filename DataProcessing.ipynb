{
 "cells": [
  {
   "cell_type": "markdown",
   "metadata": {},
   "source": [
    "## CSYE 7245 Final Project - DGA Detection \n",
    "\n",
    "## Data Processing Part\n",
    "\n",
    "\n",
    "### Course Information\n",
    "* **School**: College of Engineering, Northeastern University\n",
    "* **Course Name**: Big-Data Systems and Intelligence Analytics\n",
    "* **Professor**: Nik Brown\n",
    "\n",
    "### Group Members\n",
    "- Haimin Zhang\n",
    "- Lixi Zhou\n",
    "- Shiqi Dai\n",
    "\n",
    "Data link **(Please access Google Drive with Northeastern Account)**:\n",
    "\n",
    "https://drive.google.com/drive/folders/1m-p5_liIoSeX2pJhfMSCDDtTm3XyTCrq?usp=sharing"
   ]
  },
  {
   "cell_type": "code",
   "execution_count": 1,
   "metadata": {},
   "outputs": [],
   "source": [
    "import numpy as np\n",
    "import pandas as pd"
   ]
  },
  {
   "cell_type": "markdown",
   "metadata": {},
   "source": [
    "### Imprt Alexa Top 1 Million Sites"
   ]
  },
  {
   "cell_type": "code",
   "execution_count": 2,
   "metadata": {},
   "outputs": [
    {
     "data": {
      "text/html": [
       "<div>\n",
       "<style scoped>\n",
       "    .dataframe tbody tr th:only-of-type {\n",
       "        vertical-align: middle;\n",
       "    }\n",
       "\n",
       "    .dataframe tbody tr th {\n",
       "        vertical-align: top;\n",
       "    }\n",
       "\n",
       "    .dataframe thead th {\n",
       "        text-align: right;\n",
       "    }\n",
       "</style>\n",
       "<table border=\"1\" class=\"dataframe\">\n",
       "  <thead>\n",
       "    <tr style=\"text-align: right;\">\n",
       "      <th></th>\n",
       "      <th>DGA_Family</th>\n",
       "      <th>Domain</th>\n",
       "      <th>Type</th>\n",
       "    </tr>\n",
       "  </thead>\n",
       "  <tbody>\n",
       "    <tr>\n",
       "      <th>count</th>\n",
       "      <td>1000000</td>\n",
       "      <td>1000000</td>\n",
       "      <td>1000000</td>\n",
       "    </tr>\n",
       "    <tr>\n",
       "      <th>unique</th>\n",
       "      <td>1</td>\n",
       "      <td>1000000</td>\n",
       "      <td>1</td>\n",
       "    </tr>\n",
       "    <tr>\n",
       "      <th>top</th>\n",
       "      <td>none</td>\n",
       "      <td>pipl.com</td>\n",
       "      <td>Normal</td>\n",
       "    </tr>\n",
       "    <tr>\n",
       "      <th>freq</th>\n",
       "      <td>1000000</td>\n",
       "      <td>1</td>\n",
       "      <td>1000000</td>\n",
       "    </tr>\n",
       "  </tbody>\n",
       "</table>\n",
       "</div>"
      ],
      "text/plain": [
       "       DGA_Family    Domain     Type\n",
       "count     1000000   1000000  1000000\n",
       "unique          1   1000000        1\n",
       "top          none  pipl.com   Normal\n",
       "freq      1000000         1  1000000"
      ]
     },
     "execution_count": 2,
     "metadata": {},
     "output_type": "execute_result"
    }
   ],
   "source": [
    "benign_domain = pd.read_csv('data/top-1m-domain.csv', header=None, names=['Domain'])\n",
    "benign_domain.head()\n",
    "benign_domain['DGA_Family'] = 'none'\n",
    "benign_domain['Type'] = 'Normal'\n",
    "benign_domain =benign_domain[['DGA_Family','Domain','Type']]\n",
    "benign_domain.describe()"
   ]
  },
  {
   "cell_type": "markdown",
   "metadata": {},
   "source": [
    "### Import 360 dga data"
   ]
  },
  {
   "cell_type": "code",
   "execution_count": 3,
   "metadata": {
    "scrolled": true
   },
   "outputs": [
    {
     "data": {
      "text/html": [
       "<div>\n",
       "<style scoped>\n",
       "    .dataframe tbody tr th:only-of-type {\n",
       "        vertical-align: middle;\n",
       "    }\n",
       "\n",
       "    .dataframe tbody tr th {\n",
       "        vertical-align: top;\n",
       "    }\n",
       "\n",
       "    .dataframe thead th {\n",
       "        text-align: right;\n",
       "    }\n",
       "</style>\n",
       "<table border=\"1\" class=\"dataframe\">\n",
       "  <thead>\n",
       "    <tr style=\"text-align: right;\">\n",
       "      <th></th>\n",
       "      <th>DGA_Family</th>\n",
       "      <th>Domain</th>\n",
       "      <th>Type</th>\n",
       "    </tr>\n",
       "  </thead>\n",
       "  <tbody>\n",
       "    <tr>\n",
       "      <th>count</th>\n",
       "      <td>1169720</td>\n",
       "      <td>1169720</td>\n",
       "      <td>1169720</td>\n",
       "    </tr>\n",
       "    <tr>\n",
       "      <th>unique</th>\n",
       "      <td>42</td>\n",
       "      <td>1147770</td>\n",
       "      <td>1</td>\n",
       "    </tr>\n",
       "    <tr>\n",
       "      <th>top</th>\n",
       "      <td>banjori</td>\n",
       "      <td>aswfanarianaqh.com</td>\n",
       "      <td>DGA</td>\n",
       "    </tr>\n",
       "    <tr>\n",
       "      <th>freq</th>\n",
       "      <td>452428</td>\n",
       "      <td>7</td>\n",
       "      <td>1169720</td>\n",
       "    </tr>\n",
       "  </tbody>\n",
       "</table>\n",
       "</div>"
      ],
      "text/plain": [
       "       DGA_Family              Domain     Type\n",
       "count     1169720             1169720  1169720\n",
       "unique         42             1147770        1\n",
       "top       banjori  aswfanarianaqh.com      DGA\n",
       "freq       452428                   7  1169720"
      ]
     },
     "execution_count": 3,
     "metadata": {},
     "output_type": "execute_result"
    }
   ],
   "source": [
    "# dga_domain = pd.read_csv('data/360_dga.txt', header=None)\n",
    "dga_domain = pd.read_table('data/360_dga.txt',names=['DGA_Family','Domain','Start_time','End_time'])\n",
    "dga_domain = dga_domain.iloc[:, 0:2]\n",
    "dga_domain['Type']='DGA'\n",
    "# print(dga_domain.head())\n",
    "dga_domain.to_csv('data/360_dga_domain.csv', index = False)\n",
    "dga_domain.describe()"
   ]
  },
  {
   "cell_type": "markdown",
   "metadata": {},
   "source": [
    "### Import Bambenek Consulting provided malicious algorithmically-generated domains"
   ]
  },
  {
   "cell_type": "code",
   "execution_count": 34,
   "metadata": {},
   "outputs": [
    {
     "data": {
      "text/html": [
       "<div>\n",
       "<style scoped>\n",
       "    .dataframe tbody tr th:only-of-type {\n",
       "        vertical-align: middle;\n",
       "    }\n",
       "\n",
       "    .dataframe tbody tr th {\n",
       "        vertical-align: top;\n",
       "    }\n",
       "\n",
       "    .dataframe thead th {\n",
       "        text-align: right;\n",
       "    }\n",
       "</style>\n",
       "<table border=\"1\" class=\"dataframe\">\n",
       "  <thead>\n",
       "    <tr style=\"text-align: right;\">\n",
       "      <th></th>\n",
       "      <th>DGA_Family</th>\n",
       "      <th>Domain</th>\n",
       "      <th>Type</th>\n",
       "    </tr>\n",
       "  </thead>\n",
       "  <tbody>\n",
       "    <tr>\n",
       "      <th>count</th>\n",
       "      <td>872763</td>\n",
       "      <td>872763</td>\n",
       "      <td>872763</td>\n",
       "    </tr>\n",
       "    <tr>\n",
       "      <th>unique</th>\n",
       "      <td>52</td>\n",
       "      <td>855571</td>\n",
       "      <td>1</td>\n",
       "    </tr>\n",
       "    <tr>\n",
       "      <th>top</th>\n",
       "      <td>banjori</td>\n",
       "      <td>brtlrvpaafplsl.in</td>\n",
       "      <td>DGA</td>\n",
       "    </tr>\n",
       "    <tr>\n",
       "      <th>freq</th>\n",
       "      <td>439223</td>\n",
       "      <td>62</td>\n",
       "      <td>872763</td>\n",
       "    </tr>\n",
       "  </tbody>\n",
       "</table>\n",
       "</div>"
      ],
      "text/plain": [
       "       DGA_Family             Domain    Type\n",
       "count      872763             872763  872763\n",
       "unique         52             855571       1\n",
       "top       banjori  brtlrvpaafplsl.in     DGA\n",
       "freq       439223                 62  872763"
      ]
     },
     "execution_count": 34,
     "metadata": {},
     "output_type": "execute_result"
    }
   ],
   "source": [
    "bambenek_dga_domain = pd.read_csv('data/dga-feed.txt',header=None,sep=',',names=['Domain','DGA_Family','time','description_url'])\n",
    "bambenek_dga_domain = bambenek_dga_domain[['DGA_Family','Domain']]\n",
    "bambenek_dga_domain['Type']='DGA'\n",
    "dga_familiy_list = list()\n",
    "# for item in bambenek_dga_domain.iloc[:,0]:\n",
    "#     temp = item.split(' ')\n",
    "#     dga_familiy_list.append(temp[3])\n",
    "# bambenek_dga_domain['DGA_family']=dga_familiy_list\n",
    "bambenek_dga_domain['DGA_Family']=bambenek_dga_domain['DGA_Family'].apply(lambda x: x.split(' ')[3])\n",
    "bambenek_dga_domain.to_csv('data/bambenek_dga_domain.csv', index = False)\n",
    "bambenek_dga_domain.describe()"
   ]
  },
  {
   "cell_type": "markdown",
   "metadata": {},
   "source": [
    "### Combine Alexa Top, Bambenek DGA and 360 Lab DGA"
   ]
  },
  {
   "cell_type": "code",
   "execution_count": 35,
   "metadata": {},
   "outputs": [
    {
     "data": {
      "text/html": [
       "<div>\n",
       "<style scoped>\n",
       "    .dataframe tbody tr th:only-of-type {\n",
       "        vertical-align: middle;\n",
       "    }\n",
       "\n",
       "    .dataframe tbody tr th {\n",
       "        vertical-align: top;\n",
       "    }\n",
       "\n",
       "    .dataframe thead th {\n",
       "        text-align: right;\n",
       "    }\n",
       "</style>\n",
       "<table border=\"1\" class=\"dataframe\">\n",
       "  <thead>\n",
       "    <tr style=\"text-align: right;\">\n",
       "      <th></th>\n",
       "      <th>DGA_Family</th>\n",
       "      <th>Domain</th>\n",
       "      <th>Type</th>\n",
       "    </tr>\n",
       "  </thead>\n",
       "  <tbody>\n",
       "    <tr>\n",
       "      <th>count</th>\n",
       "      <td>2475328</td>\n",
       "      <td>2475328</td>\n",
       "      <td>2475328</td>\n",
       "    </tr>\n",
       "    <tr>\n",
       "      <th>unique</th>\n",
       "      <td>70</td>\n",
       "      <td>2461354</td>\n",
       "      <td>2</td>\n",
       "    </tr>\n",
       "    <tr>\n",
       "      <th>top</th>\n",
       "      <td>none</td>\n",
       "      <td>fasolqkutlbrswhesmjcexk.ru</td>\n",
       "      <td>DGA</td>\n",
       "    </tr>\n",
       "    <tr>\n",
       "      <th>freq</th>\n",
       "      <td>1000000</td>\n",
       "      <td>3</td>\n",
       "      <td>1475328</td>\n",
       "    </tr>\n",
       "  </tbody>\n",
       "</table>\n",
       "</div>"
      ],
      "text/plain": [
       "       DGA_Family                      Domain     Type\n",
       "count     2475328                     2475328  2475328\n",
       "unique         70                     2461354        2\n",
       "top          none  fasolqkutlbrswhesmjcexk.ru      DGA\n",
       "freq      1000000                           3  1475328"
      ]
     },
     "execution_count": 35,
     "metadata": {},
     "output_type": "execute_result"
    }
   ],
   "source": [
    "dga_domain = pd.concat([dga_domain,bambenek_dga_domain],axis=0)\n",
    "dga_domain = dga_domain.drop_duplicates()\n",
    "df_domain = pd.concat([dga_domain,benign_domain])\n",
    "df_domain.describe()"
   ]
  },
  {
   "cell_type": "markdown",
   "metadata": {},
   "source": [
    "### Shuffle all data and save data to csv file"
   ]
  },
  {
   "cell_type": "code",
   "execution_count": 33,
   "metadata": {},
   "outputs": [],
   "source": [
    "df_domain_shuffle = df_domain.sample(frac = 1)\n",
    "df_domain_shuffle.to_csv('data/mixed_domain.csv', index = False)"
   ]
  }
 ],
 "metadata": {
  "hide_input": false,
  "kernelspec": {
   "display_name": "Python 3",
   "language": "python",
   "name": "python3"
  },
  "language_info": {
   "codemirror_mode": {
    "name": "ipython",
    "version": 3
   },
   "file_extension": ".py",
   "mimetype": "text/x-python",
   "name": "python",
   "nbconvert_exporter": "python",
   "pygments_lexer": "ipython3",
   "version": "3.6.6"
  },
  "toc": {
   "base_numbering": 1,
   "nav_menu": {},
   "number_sections": true,
   "sideBar": true,
   "skip_h1_title": false,
   "title_cell": "Table of Contents",
   "title_sidebar": "Contents",
   "toc_cell": false,
   "toc_position": {},
   "toc_section_display": true,
   "toc_window_display": false
  },
  "varInspector": {
   "cols": {
    "lenName": 16,
    "lenType": 16,
    "lenVar": 40
   },
   "kernels_config": {
    "python": {
     "delete_cmd_postfix": "",
     "delete_cmd_prefix": "del ",
     "library": "var_list.py",
     "varRefreshCmd": "print(var_dic_list())"
    },
    "r": {
     "delete_cmd_postfix": ") ",
     "delete_cmd_prefix": "rm(",
     "library": "var_list.r",
     "varRefreshCmd": "cat(var_dic_list()) "
    }
   },
   "types_to_exclude": [
    "module",
    "function",
    "builtin_function_or_method",
    "instance",
    "_Feature"
   ],
   "window_display": false
  }
 },
 "nbformat": 4,
 "nbformat_minor": 2
}
