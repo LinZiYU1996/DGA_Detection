{
  "nbformat": 4,
  "nbformat_minor": 0,
  "metadata": {
    "colab": {
      "name": "CNN_EX5.ipynb",
      "version": "0.3.2",
      "provenance": [],
      "toc_visible": true
    },
    "kernelspec": {
      "name": "python3",
      "display_name": "Python 3"
    },
    "accelerator": "GPU"
  },
  "cells": [
    {
      "metadata": {
        "id": "DcngT5T1reef",
        "colab_type": "code",
        "colab": {}
      },
      "cell_type": "code",
      "source": [
        "from keras.preprocessing import sequence\n",
        "from keras.models import Sequential\n",
        "from keras.layers.core import Dense, Dropout, Activation\n",
        "from keras.layers.embeddings import Embedding\n",
        "from keras.layers import Conv1D, MaxPooling1D, Input, Flatten\n",
        "import numpy as np\n",
        "import sklearn\n",
        "from sklearn.model_selection import train_test_split"
      ],
      "execution_count": 0,
      "outputs": []
    },
    {
      "metadata": {
        "id": "KCbpCRKcreek",
        "colab_type": "code",
        "colab": {}
      },
      "cell_type": "code",
      "source": [
        "import pandas as pd\n",
        "\n",
        "benign_domain = pd.read_csv('benign_domians.csv')\n",
        "dga_domain = pd.read_csv('360_dga_domains.csv')\n",
        "bambenek_dga_domain = pd.read_csv('bambenek_dga_domains.csv')"
      ],
      "execution_count": 0,
      "outputs": []
    },
    {
      "metadata": {
        "id": "OWW-ZnCzsNHO",
        "colab_type": "code",
        "colab": {}
      },
      "cell_type": "code",
      "source": [
        "benign_domains = benign_domain['Domain'].tolist()\n",
        "dga_domains = dga_domain['Domain'].tolist() + bambenek_dga_domain['Domain'].tolist()"
      ],
      "execution_count": 0,
      "outputs": []
    },
    {
      "metadata": {
        "id": "28CmJQC-reem",
        "colab_type": "text"
      },
      "cell_type": "markdown",
      "source": [
        "### Build CNN model"
      ]
    },
    {
      "metadata": {
        "id": "VrBscbbNreen",
        "colab_type": "text"
      },
      "cell_type": "markdown",
      "source": [
        "One CNN module, use adam as optimizer"
      ]
    },
    {
      "metadata": {
        "id": "05hYlhnYreeo",
        "colab_type": "code",
        "colab": {}
      },
      "cell_type": "code",
      "source": [
        "def build_model(max_features_num, maxlen):\n",
        "    \"\"\"Build CNN model\"\"\"\n",
        "    model = Sequential()\n",
        "    model.add(Conv1D(64, 3, strides=1, \n",
        "                     input_shape=(maxlen,1),\n",
        "                     padding='valid', \n",
        "                     data_format='channels_last', \n",
        "                     dilation_rate=1, \n",
        "                     activation='relu', \n",
        "                     use_bias=True, \n",
        "                     kernel_initializer='glorot_uniform', \n",
        "                     bias_initializer='zeros', \n",
        "                     kernel_regularizer=None, \n",
        "                     bias_regularizer=None, \n",
        "                     activity_regularizer=None, \n",
        "                     kernel_constraint=None, \n",
        "                     bias_constraint=None))\n",
        "    model.add(MaxPooling1D(pool_size=2, \n",
        "                           strides=None, \n",
        "                           padding='valid', \n",
        "                           data_format='channels_last'))\n",
        "    model.add(Dropout(0.5))\n",
        "    '''\n",
        "    model.add(Conv1D(32, 3, strides=1, \n",
        "                       padding='valid', \n",
        "                       data_format='channels_last', \n",
        "                       dilation_rate=1, \n",
        "                       activation='relu', \n",
        "                       use_bias=True, \n",
        "                       kernel_initializer='glorot_uniform', \n",
        "                       bias_initializer='zeros', \n",
        "                       kernel_regularizer=None, \n",
        "                       bias_regularizer=None, \n",
        "                       activity_regularizer=None, \n",
        "                       kernel_constraint=None, \n",
        "                       bias_constraint=None))\n",
        "      model.add(MaxPooling1D(pool_size=2, \n",
        "                             strides=None, \n",
        "                             padding='valid', \n",
        "                             data_format='channels_last'))\n",
        "      model.add(Dropout(0.3))\n",
        "      '''\n",
        "    model.add(Flatten())\n",
        "    model.add(Dense(1,activation='sigmoid'))\n",
        "\n",
        "    model.compile(loss='binary_crossentropy',\n",
        "                  optimizer='adam',\n",
        "                  metrics=['binary_crossentropy','acc'])\n",
        "\n",
        "    return model"
      ],
      "execution_count": 0,
      "outputs": []
    },
    {
      "metadata": {
        "id": "wAycToKOreeq",
        "colab_type": "text"
      },
      "cell_type": "markdown",
      "source": [
        "### Load data"
      ]
    },
    {
      "metadata": {
        "id": "9TEPfchvrees",
        "colab_type": "code",
        "colab": {}
      },
      "cell_type": "code",
      "source": [
        "X = benign_domains + dga_domains"
      ],
      "execution_count": 0,
      "outputs": []
    },
    {
      "metadata": {
        "id": "7TSRb_8oreeu",
        "colab_type": "code",
        "colab": {}
      },
      "cell_type": "code",
      "source": [
        "# Generate a dictionary of valid characters\n",
        "unique_chars = enumerate(set(''.join(X))) \n",
        "chars_dict = dict()\n",
        "for i, x in unique_chars: #index of enum starts with 0\n",
        "    #print('i: ' + str(i) + '  x: ' + x)\n",
        "    chars_dict[x] = i + 1 #leave 0 for padding"
      ],
      "execution_count": 0,
      "outputs": []
    },
    {
      "metadata": {
        "id": "fPSiQNORreex",
        "colab_type": "code",
        "colab": {}
      },
      "cell_type": "code",
      "source": [
        "#index 0 is also going to be a feature(padding/unknown).\n",
        "max_features_num = len(chars_dict) + 1\n",
        "\n",
        "#max length will be the max length of domain in our dataset\n",
        "maxlen = np.max([len(x) for x in X])"
      ],
      "execution_count": 0,
      "outputs": []
    },
    {
      "metadata": {
        "id": "QM00tUL-ree0",
        "colab_type": "code",
        "colab": {
          "base_uri": "https://localhost:8080/",
          "height": 33
        },
        "outputId": "4b282f81-ce43-488a-bfeb-6cb763bad9e2"
      },
      "cell_type": "code",
      "source": [
        "maxlen"
      ],
      "execution_count": 11,
      "outputs": [
        {
          "output_type": "execute_result",
          "data": {
            "text/plain": [
              "73"
            ]
          },
          "metadata": {
            "tags": []
          },
          "execution_count": 11
        }
      ]
    },
    {
      "metadata": {
        "id": "udj4eS_xree3",
        "colab_type": "code",
        "colab": {}
      },
      "cell_type": "code",
      "source": [
        "# Convert characters to int\n",
        "X_in_int = []\n",
        "for domain in X:\n",
        "    domain_in_int = []\n",
        "    for c in domain:\n",
        "        domain_in_int.append(chars_dict[c])\n",
        "    X_in_int.append(domain_in_int)"
      ],
      "execution_count": 0,
      "outputs": []
    },
    {
      "metadata": {
        "id": "gioiR5jRree6",
        "colab_type": "code",
        "colab": {
          "base_uri": "https://localhost:8080/",
          "height": 33
        },
        "outputId": "cb444885-1474-41d8-8c62-b1b3b8a9206f"
      },
      "cell_type": "code",
      "source": [
        "X_in_int[1]"
      ],
      "execution_count": 13,
      "outputs": [
        {
          "output_type": "execute_result",
          "data": {
            "text/plain": [
              "[26, 6, 3, 35, 3, 2, 31, 24, 21, 6, 16]"
            ]
          },
          "metadata": {
            "tags": []
          },
          "execution_count": 13
        }
      ]
    },
    {
      "metadata": {
        "id": "OTMwxxR6refA",
        "colab_type": "code",
        "colab": {
          "base_uri": "https://localhost:8080/",
          "height": 33
        },
        "outputId": "75bc9341-74ad-4657-8133-3b82467b750d"
      },
      "cell_type": "code",
      "source": [
        "X[1]"
      ],
      "execution_count": 14,
      "outputs": [
        {
          "output_type": "execute_result",
          "data": {
            "text/plain": [
              "'youtube.com'"
            ]
          },
          "metadata": {
            "tags": []
          },
          "execution_count": 14
        }
      ]
    },
    {
      "metadata": {
        "id": "pEakL4JdrefD",
        "colab_type": "code",
        "colab": {}
      },
      "cell_type": "code",
      "source": [
        "#update X\n",
        "X = X_in_int"
      ],
      "execution_count": 0,
      "outputs": []
    },
    {
      "metadata": {
        "id": "yGlfRhF8refG",
        "colab_type": "code",
        "colab": {}
      },
      "cell_type": "code",
      "source": [
        "#pad to max length\n",
        "X = sequence.pad_sequences(X, maxlen=maxlen)"
      ],
      "execution_count": 0,
      "outputs": []
    },
    {
      "metadata": {
        "id": "g0xSsqEsrefJ",
        "colab_type": "code",
        "colab": {
          "base_uri": "https://localhost:8080/",
          "height": 33
        },
        "outputId": "7d3d80f9-1759-434e-e36f-18d66703e0c1"
      },
      "cell_type": "code",
      "source": [
        "X.shape"
      ],
      "execution_count": 17,
      "outputs": [
        {
          "output_type": "execute_result",
          "data": {
            "text/plain": [
              "(3016336, 73)"
            ]
          },
          "metadata": {
            "tags": []
          },
          "execution_count": 17
        }
      ]
    },
    {
      "metadata": {
        "id": "fB8hMNRVrefN",
        "colab_type": "code",
        "colab": {}
      },
      "cell_type": "code",
      "source": [
        "#Generate corresponding Y, 0 for 'benign'; 1 for 'dga'\n",
        "Y = np.hstack([np.zeros(len(benign_domains)),np.ones(len(dga_domains))])"
      ],
      "execution_count": 0,
      "outputs": []
    },
    {
      "metadata": {
        "id": "5ffqcgZArefQ",
        "colab_type": "text"
      },
      "cell_type": "markdown",
      "source": [
        "### Train the model\n",
        "Beacuse of the huge size of data, we decided to resample to get a smaller set for training."
      ]
    },
    {
      "metadata": {
        "id": "h5mVdgacrefR",
        "colab_type": "text"
      },
      "cell_type": "markdown",
      "source": [
        "Because of the size of benigns domains is 1M, the cut point will be the index of the last benigns domain, which will be:"
      ]
    },
    {
      "metadata": {
        "id": "dGoyOfkHrefR",
        "colab_type": "code",
        "colab": {
          "base_uri": "https://localhost:8080/",
          "height": 33
        },
        "outputId": "09150a00-9ae9-4aa9-b396-ab8e31f4ac6a"
      },
      "cell_type": "code",
      "source": [
        "pos_neg_cutpoint = len(benign_domains)\n",
        "print(\"The cut point will be \"+ str(pos_neg_cutpoint))"
      ],
      "execution_count": 21,
      "outputs": [
        {
          "output_type": "stream",
          "text": [
            "The cut point will be 1000000\n"
          ],
          "name": "stdout"
        }
      ]
    },
    {
      "metadata": {
        "id": "scOALQG0refU",
        "colab_type": "text"
      },
      "cell_type": "markdown",
      "source": [
        "Now, randomly select the same amount of domains from both benigns and dgas."
      ]
    },
    {
      "metadata": {
        "id": "AdaiHDsSrefV",
        "colab_type": "code",
        "colab": {}
      },
      "cell_type": "code",
      "source": [
        "import random"
      ],
      "execution_count": 0,
      "outputs": []
    },
    {
      "metadata": {
        "id": "8nWbbulxrefX",
        "colab_type": "code",
        "colab": {}
      },
      "cell_type": "code",
      "source": [
        "#set new sampling szie as 50K\n",
        "sampling_size = 150000\n",
        "\n",
        "pos_indices = random.sample(range(pos_neg_cutpoint),sampling_size)\n",
        "neg_indices = random.sample(range(pos_neg_cutpoint, len(X)),sampling_size)"
      ],
      "execution_count": 0,
      "outputs": []
    },
    {
      "metadata": {
        "id": "hN2l2GPTrefZ",
        "colab_type": "code",
        "colab": {}
      },
      "cell_type": "code",
      "source": [
        "new_X = X[pos_indices + neg_indices]\n",
        "new_Y = Y[pos_indices + neg_indices]"
      ],
      "execution_count": 0,
      "outputs": []
    },
    {
      "metadata": {
        "id": "hx6CRDBFrefb",
        "colab_type": "code",
        "colab": {
          "base_uri": "https://localhost:8080/",
          "height": 33
        },
        "outputId": "6cf25f3c-ccf0-448f-d07d-302ab7b97601"
      },
      "cell_type": "code",
      "source": [
        "new_X.shape"
      ],
      "execution_count": 25,
      "outputs": [
        {
          "output_type": "execute_result",
          "data": {
            "text/plain": [
              "(300000, 73)"
            ]
          },
          "metadata": {
            "tags": []
          },
          "execution_count": 25
        }
      ]
    },
    {
      "metadata": {
        "id": "Otwx6GAoreff",
        "colab_type": "code",
        "colab": {}
      },
      "cell_type": "code",
      "source": [
        "newnew_x = np.reshape(new_X,(300000,73,1))"
      ],
      "execution_count": 0,
      "outputs": []
    },
    {
      "metadata": {
        "id": "88aIouMsrefl",
        "colab_type": "code",
        "colab": {
          "base_uri": "https://localhost:8080/",
          "height": 33
        },
        "outputId": "c6199dfc-0557-4a1f-ffab-6723b19e2408"
      },
      "cell_type": "code",
      "source": [
        "newnew_x.shape"
      ],
      "execution_count": 27,
      "outputs": [
        {
          "output_type": "execute_result",
          "data": {
            "text/plain": [
              "(300000, 73, 1)"
            ]
          },
          "metadata": {
            "tags": []
          },
          "execution_count": 27
        }
      ]
    },
    {
      "metadata": {
        "id": "winEou6Trefn",
        "colab_type": "code",
        "colab": {
          "base_uri": "https://localhost:8080/",
          "height": 33
        },
        "outputId": "46178ddf-ec8b-4d84-c3ec-d9f7ed64a8b8"
      },
      "cell_type": "code",
      "source": [
        "len(new_X)"
      ],
      "execution_count": 41,
      "outputs": [
        {
          "output_type": "execute_result",
          "data": {
            "text/plain": [
              "300000"
            ]
          },
          "metadata": {
            "tags": []
          },
          "execution_count": 41
        }
      ]
    },
    {
      "metadata": {
        "id": "tYBLazl1refq",
        "colab_type": "text"
      },
      "cell_type": "markdown",
      "source": [
        "#### Fit the model"
      ]
    },
    {
      "metadata": {
        "id": "b9AdMqAwrefq",
        "colab_type": "code",
        "colab": {}
      },
      "cell_type": "code",
      "source": [
        "#training parameters\n",
        "\n",
        "max_epoch=25\n",
        "nfolds=10\n",
        "batch_size=128"
      ],
      "execution_count": 0,
      "outputs": []
    },
    {
      "metadata": {
        "id": "v55Na3o-reft",
        "colab_type": "code",
        "colab": {}
      },
      "cell_type": "code",
      "source": [
        "#call backs\n",
        "from keras.callbacks import EarlyStopping\n",
        "cb = []\n",
        "\n",
        "cb.append(EarlyStopping(monitor='val_loss', \n",
        "                        min_delta=0, #an absolute change of less than min_delta, will count as no improvement\n",
        "                        patience=5, #number of epochs with no improvement after which training will be stopped\n",
        "                        verbose=0, \n",
        "                        mode='auto', \n",
        "                        baseline=None, \n",
        "                        restore_best_weights=False))"
      ],
      "execution_count": 0,
      "outputs": []
    },
    {
      "metadata": {
        "id": "xjQVayyirefw",
        "colab_type": "code",
        "colab": {
          "base_uri": "https://localhost:8080/",
          "height": 301
        },
        "outputId": "a371873f-ae56-4225-bf2f-23d5370fd538"
      },
      "cell_type": "code",
      "source": [
        "model = build_model(max_features_num, maxlen)\n",
        "model.summary()"
      ],
      "execution_count": 47,
      "outputs": [
        {
          "output_type": "stream",
          "text": [
            "_________________________________________________________________\n",
            "Layer (type)                 Output Shape              Param #   \n",
            "=================================================================\n",
            "conv1d_4 (Conv1D)            (None, 71, 64)            256       \n",
            "_________________________________________________________________\n",
            "max_pooling1d_4 (MaxPooling1 (None, 35, 64)            0         \n",
            "_________________________________________________________________\n",
            "dropout_4 (Dropout)          (None, 35, 64)            0         \n",
            "_________________________________________________________________\n",
            "flatten_3 (Flatten)          (None, 2240)              0         \n",
            "_________________________________________________________________\n",
            "dense_3 (Dense)              (None, 1)                 2241      \n",
            "=================================================================\n",
            "Total params: 2,497\n",
            "Trainable params: 2,497\n",
            "Non-trainable params: 0\n",
            "_________________________________________________________________\n"
          ],
          "name": "stdout"
        }
      ]
    },
    {
      "metadata": {
        "id": "T90Jkt_uref0",
        "colab_type": "code",
        "colab": {
          "base_uri": "https://localhost:8080/",
          "height": 589
        },
        "outputId": "106c02ab-06ad-4b15-bcb5-a5898b7cd7a7"
      },
      "cell_type": "code",
      "source": [
        "history = model.fit(x=newnew_x, y=new_Y, \n",
        "                    batch_size=batch_size, \n",
        "                    epochs=max_epoch, \n",
        "                    verbose=1, \n",
        "                    callbacks=cb, \n",
        "                    validation_split=0.2, #\n",
        "                    validation_data=None, \n",
        "                    shuffle=True, \n",
        "                    class_weight=None, \n",
        "                    sample_weight=None, \n",
        "                    initial_epoch=0,\n",
        "                    steps_per_epoch=None, \n",
        "                    validation_steps=None)"
      ],
      "execution_count": 48,
      "outputs": [
        {
          "output_type": "stream",
          "text": [
            "Train on 240000 samples, validate on 60000 samples\n",
            "Epoch 1/25\n",
            "240000/240000 [==============================] - 14s 60us/step - loss: 0.4972 - binary_crossentropy: 0.4972 - acc: 0.7693 - val_loss: 0.6471 - val_binary_crossentropy: 0.6471 - val_acc: 0.6799\n",
            "Epoch 2/25\n",
            "240000/240000 [==============================] - 14s 59us/step - loss: 0.4406 - binary_crossentropy: 0.4406 - acc: 0.8007 - val_loss: 0.6886 - val_binary_crossentropy: 0.6886 - val_acc: 0.6676\n",
            "Epoch 3/25\n",
            "240000/240000 [==============================] - 14s 59us/step - loss: 0.4311 - binary_crossentropy: 0.4311 - acc: 0.8068 - val_loss: 0.5847 - val_binary_crossentropy: 0.5847 - val_acc: 0.7333\n",
            "Epoch 4/25\n",
            "240000/240000 [==============================] - 14s 59us/step - loss: 0.4265 - binary_crossentropy: 0.4265 - acc: 0.8108 - val_loss: 0.5854 - val_binary_crossentropy: 0.5854 - val_acc: 0.7269\n",
            "Epoch 5/25\n",
            "240000/240000 [==============================] - 14s 59us/step - loss: 0.4222 - binary_crossentropy: 0.4222 - acc: 0.8142 - val_loss: 0.5600 - val_binary_crossentropy: 0.5600 - val_acc: 0.7289\n",
            "Epoch 6/25\n",
            "240000/240000 [==============================] - 14s 59us/step - loss: 0.4201 - binary_crossentropy: 0.4201 - acc: 0.8163 - val_loss: 0.5778 - val_binary_crossentropy: 0.5778 - val_acc: 0.7246\n",
            "Epoch 7/25\n",
            "240000/240000 [==============================] - 14s 58us/step - loss: 0.4192 - binary_crossentropy: 0.4192 - acc: 0.8154 - val_loss: 0.5195 - val_binary_crossentropy: 0.5195 - val_acc: 0.7551\n",
            "Epoch 8/25\n",
            "240000/240000 [==============================] - 14s 58us/step - loss: 0.4182 - binary_crossentropy: 0.4182 - acc: 0.8167 - val_loss: 0.5523 - val_binary_crossentropy: 0.5523 - val_acc: 0.7511\n",
            "Epoch 9/25\n",
            "240000/240000 [==============================] - 14s 59us/step - loss: 0.4179 - binary_crossentropy: 0.4179 - acc: 0.8175 - val_loss: 0.5873 - val_binary_crossentropy: 0.5873 - val_acc: 0.7159\n",
            "Epoch 10/25\n",
            "240000/240000 [==============================] - 14s 58us/step - loss: 0.4160 - binary_crossentropy: 0.4160 - acc: 0.8183 - val_loss: 0.5498 - val_binary_crossentropy: 0.5498 - val_acc: 0.7416\n",
            "Epoch 11/25\n",
            "240000/240000 [==============================] - 14s 58us/step - loss: 0.4145 - binary_crossentropy: 0.4145 - acc: 0.8196 - val_loss: 0.4976 - val_binary_crossentropy: 0.4976 - val_acc: 0.7752\n",
            "Epoch 12/25\n",
            "240000/240000 [==============================] - 14s 58us/step - loss: 0.4136 - binary_crossentropy: 0.4136 - acc: 0.8200 - val_loss: 0.5452 - val_binary_crossentropy: 0.5452 - val_acc: 0.7479\n",
            "Epoch 13/25\n",
            "240000/240000 [==============================] - 14s 59us/step - loss: 0.4133 - binary_crossentropy: 0.4133 - acc: 0.8206 - val_loss: 0.5670 - val_binary_crossentropy: 0.5670 - val_acc: 0.7466\n",
            "Epoch 14/25\n",
            "240000/240000 [==============================] - 14s 58us/step - loss: 0.4130 - binary_crossentropy: 0.4130 - acc: 0.8214 - val_loss: 0.5163 - val_binary_crossentropy: 0.5163 - val_acc: 0.7624\n",
            "Epoch 15/25\n",
            "240000/240000 [==============================] - 14s 58us/step - loss: 0.4126 - binary_crossentropy: 0.4126 - acc: 0.8209 - val_loss: 0.5205 - val_binary_crossentropy: 0.5205 - val_acc: 0.7615\n",
            "Epoch 16/25\n",
            "240000/240000 [==============================] - 14s 58us/step - loss: 0.4115 - binary_crossentropy: 0.4115 - acc: 0.8209 - val_loss: 0.6015 - val_binary_crossentropy: 0.6015 - val_acc: 0.7152\n"
          ],
          "name": "stdout"
        }
      ]
    },
    {
      "metadata": {
        "id": "n3wSCPXBref2",
        "colab_type": "code",
        "colab": {}
      },
      "cell_type": "code",
      "source": [
        "model.save('CNN_on_300K')"
      ],
      "execution_count": 0,
      "outputs": []
    },
    {
      "metadata": {
        "id": "rU6LGfPiref3",
        "colab_type": "text"
      },
      "cell_type": "markdown",
      "source": [
        "#### Plot training & validation accuracy values "
      ]
    },
    {
      "metadata": {
        "id": "rPVEhFG6ref4",
        "colab_type": "code",
        "colab": {}
      },
      "cell_type": "code",
      "source": [
        "import matplotlib.pyplot as plt "
      ],
      "execution_count": 0,
      "outputs": []
    },
    {
      "metadata": {
        "id": "G5QefLEQref5",
        "colab_type": "code",
        "colab": {
          "base_uri": "https://localhost:8080/",
          "height": 376
        },
        "outputId": "d6d771b3-d217-4bf2-8943-4be2e87b6db5"
      },
      "cell_type": "code",
      "source": [
        "# Plot training & validation accuracy values \n",
        "plt.plot(history.history['acc']) \n",
        "plt.plot(history.history['val_acc']) \n",
        "plt.title('Model accuracy') \n",
        "plt.ylabel('Accuracy') \n",
        "plt.xlabel('Epoch') \n",
        "plt.legend(['Train', 'Test'], loc='upper left') \n",
        "plt.show() "
      ],
      "execution_count": 49,
      "outputs": [
        {
          "output_type": "display_data",
          "data": {
            "image/png": "[encoded data removed]",
            "text/plain": [
              "<matplotlib.figure.Figure at 0x7ff62b70e5f8>"
            ]
          },
          "metadata": {
            "tags": []
          }
        }
      ]
    },
    {
      "metadata": {
        "id": "mMFmt9EFref8",
        "colab_type": "code",
        "colab": {
          "base_uri": "https://localhost:8080/",
          "height": 376
        },
        "outputId": "e0b20514-772d-4d88-fefc-c92ff9834d1b"
      },
      "cell_type": "code",
      "source": [
        "\n",
        "# Plot training & validation loss values \n",
        "plt.plot(history.history['loss']) \n",
        "plt.plot(history.history['val_loss']) \n",
        "plt.title('Model loss') \n",
        "plt.ylabel('Loss') \n",
        "plt.xlabel('Epoch') \n",
        "plt.legend(['Train', 'Test'], loc='upper left') \n",
        "plt.show()"
      ],
      "execution_count": 50,
      "outputs": [
        {
          "output_type": "display_data",
          "data": {
            "image/png": "[encoded data removed]",
            "text/plain": [
              "<matplotlib.figure.Figure at 0x7ff62b73a2e8>"
            ]
          },
          "metadata": {
            "tags": []
          }
        }
      ]
    },
    {
      "metadata": {
        "id": "XxHee_6yref-",
        "colab_type": "code",
        "colab": {}
      },
      "cell_type": "code",
      "source": [
        ""
      ],
      "execution_count": 0,
      "outputs": []
    },
    {
      "metadata": {
        "id": "0Ken0x2HregA",
        "colab_type": "code",
        "colab": {}
      },
      "cell_type": "code",
      "source": [
        ""
      ],
      "execution_count": 0,
      "outputs": []
    },
    {
      "metadata": {
        "id": "UY1NjmgtregE",
        "colab_type": "code",
        "colab": {}
      },
      "cell_type": "code",
      "source": [
        ""
      ],
      "execution_count": 0,
      "outputs": []
    }
  ]
}