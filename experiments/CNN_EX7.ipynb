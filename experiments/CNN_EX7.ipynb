{
 "cells": [
  {
   "cell_type": "code",
   "execution_count": 0,
   "metadata": {
    "colab": {},
    "colab_type": "code",
    "id": "DcngT5T1reef"
   },
   "outputs": [],
   "source": [
    "from keras.preprocessing import sequence\n",
    "from keras.models import Sequential\n",
    "from keras.layers.core import Dense, Dropout, Activation\n",
    "from keras.layers.embeddings import Embedding\n",
    "from keras.layers import Conv1D, MaxPooling1D, Input, Flatten\n",
    "import numpy as np\n",
    "import sklearn\n",
    "from sklearn.model_selection import train_test_split"
   ]
  },
  {
   "cell_type": "code",
   "execution_count": 0,
   "metadata": {
    "colab": {},
    "colab_type": "code",
    "id": "KCbpCRKcreek"
   },
   "outputs": [],
   "source": [
    "import pandas as pd\n",
    "\n",
    "benign_domain = pd.read_csv('benign_domians.csv')\n",
    "dga_domain = pd.read_csv('360_dga_domains.csv')\n",
    "bambenek_dga_domain = pd.read_csv('bambenek_dga_domains.csv')"
   ]
  },
  {
   "cell_type": "code",
   "execution_count": 0,
   "metadata": {
    "colab": {},
    "colab_type": "code",
    "id": "OWW-ZnCzsNHO"
   },
   "outputs": [],
   "source": [
    "benign_domains = benign_domain['Domain'].tolist()\n",
    "dga_domains = dga_domain['Domain'].tolist() + bambenek_dga_domain['Domain'].tolist()"
   ]
  },
  {
   "cell_type": "markdown",
   "metadata": {
    "colab_type": "text",
    "id": "28CmJQC-reem"
   },
   "source": [
    "### Build CNN model"
   ]
  },
  {
   "cell_type": "markdown",
   "metadata": {
    "colab_type": "text",
    "id": "VrBscbbNreen"
   },
   "source": [
    "One CNN module(kernel 32), dropout 0.3, using adam as optimizer，add regularizer 0.01(larger than ex5)"
   ]
  },
  {
   "cell_type": "code",
   "execution_count": 0,
   "metadata": {
    "colab": {},
    "colab_type": "code",
    "id": "wjqRZP5Xwmk1"
   },
   "outputs": [],
   "source": [
    "from keras import regularizers\n",
    "rglrzr = regularizers.l2(0.01)"
   ]
  },
  {
   "cell_type": "code",
   "execution_count": 0,
   "metadata": {
    "colab": {},
    "colab_type": "code",
    "id": "05hYlhnYreeo"
   },
   "outputs": [],
   "source": [
    "def build_model(max_features_num, maxlen):\n",
    "    \"\"\"Build CNN model\"\"\"\n",
    "    model = Sequential()\n",
    "    model.add(Conv1D(32, 3, strides=1, \n",
    "                     input_shape=(maxlen,1),\n",
    "                     padding='valid', \n",
    "                     data_format='channels_last', \n",
    "                     dilation_rate=1, \n",
    "                     activation='relu', \n",
    "                     use_bias=True, \n",
    "                     kernel_initializer='glorot_uniform', \n",
    "                     bias_initializer='zeros', \n",
    "                     kernel_regularizer=rglrzr, \n",
    "                     bias_regularizer=None, \n",
    "                     activity_regularizer=None, \n",
    "                     kernel_constraint=None, \n",
    "                     bias_constraint=None))\n",
    "    model.add(MaxPooling1D(pool_size=2, \n",
    "                           strides=None, \n",
    "                           padding='valid', \n",
    "                           data_format='channels_last'))\n",
    "    model.add(Dropout(0.3))\n",
    "    '''\n",
    "    model.add(Conv1D(32, 3, strides=1, \n",
    "                       padding='valid', \n",
    "                       data_format='channels_last', \n",
    "                       dilation_rate=1, \n",
    "                       activation='relu', \n",
    "                       use_bias=True, \n",
    "                       kernel_initializer='glorot_uniform', \n",
    "                       bias_initializer='zeros', \n",
    "                       kernel_regularizer=None, \n",
    "                       bias_regularizer=None, \n",
    "                       activity_regularizer=None, \n",
    "                       kernel_constraint=None, \n",
    "                       bias_constraint=None))\n",
    "      model.add(MaxPooling1D(pool_size=2, \n",
    "                             strides=None, \n",
    "                             padding='valid', \n",
    "                             data_format='channels_last'))\n",
    "      model.add(Dropout(0.3))\n",
    "      '''\n",
    "    model.add(Flatten())\n",
    "    model.add(Dense(1,activation='sigmoid'))\n",
    "\n",
    "    model.compile(loss='binary_crossentropy',\n",
    "                  optimizer='adam',\n",
    "                  metrics=['binary_crossentropy','acc'])\n",
    "\n",
    "    return model"
   ]
  },
  {
   "cell_type": "markdown",
   "metadata": {
    "colab_type": "text",
    "id": "wAycToKOreeq"
   },
   "source": [
    "### Load data"
   ]
  },
  {
   "cell_type": "code",
   "execution_count": 0,
   "metadata": {
    "colab": {},
    "colab_type": "code",
    "id": "9TEPfchvrees"
   },
   "outputs": [],
   "source": [
    "X = benign_domains + dga_domains"
   ]
  },
  {
   "cell_type": "code",
   "execution_count": 0,
   "metadata": {
    "colab": {},
    "colab_type": "code",
    "id": "7TSRb_8oreeu"
   },
   "outputs": [],
   "source": [
    "# Generate a dictionary of valid characters\n",
    "unique_chars = enumerate(set(''.join(X))) \n",
    "chars_dict = dict()\n",
    "for i, x in unique_chars: #index of enum starts with 0\n",
    "    #print('i: ' + str(i) + '  x: ' + x)\n",
    "    chars_dict[x] = i + 1 #leave 0 for padding"
   ]
  },
  {
   "cell_type": "code",
   "execution_count": 0,
   "metadata": {
    "colab": {},
    "colab_type": "code",
    "id": "fPSiQNORreex"
   },
   "outputs": [],
   "source": [
    "#index 0 is also going to be a feature(padding/unknown).\n",
    "max_features_num = len(chars_dict) + 1\n",
    "\n",
    "#max length will be the max length of domain in our dataset\n",
    "maxlen = np.max([len(x) for x in X])"
   ]
  },
  {
   "cell_type": "code",
   "execution_count": 11,
   "metadata": {
    "colab": {
     "base_uri": "https://localhost:8080/",
     "height": 33
    },
    "colab_type": "code",
    "id": "QM00tUL-ree0",
    "outputId": "4b282f81-ce43-488a-bfeb-6cb763bad9e2"
   },
   "outputs": [
    {
     "data": {
      "text/plain": [
       "73"
      ]
     },
     "execution_count": 11,
     "metadata": {
      "tags": []
     },
     "output_type": "execute_result"
    }
   ],
   "source": [
    "maxlen"
   ]
  },
  {
   "cell_type": "code",
   "execution_count": 0,
   "metadata": {
    "colab": {},
    "colab_type": "code",
    "id": "udj4eS_xree3"
   },
   "outputs": [],
   "source": [
    "# Convert characters to int\n",
    "X_in_int = []\n",
    "for domain in X:\n",
    "    domain_in_int = []\n",
    "    for c in domain:\n",
    "        domain_in_int.append(chars_dict[c])\n",
    "    X_in_int.append(domain_in_int)"
   ]
  },
  {
   "cell_type": "code",
   "execution_count": 13,
   "metadata": {
    "colab": {
     "base_uri": "https://localhost:8080/",
     "height": 33
    },
    "colab_type": "code",
    "id": "gioiR5jRree6",
    "outputId": "cb444885-1474-41d8-8c62-b1b3b8a9206f"
   },
   "outputs": [
    {
     "data": {
      "text/plain": [
       "[26, 6, 3, 35, 3, 2, 31, 24, 21, 6, 16]"
      ]
     },
     "execution_count": 13,
     "metadata": {
      "tags": []
     },
     "output_type": "execute_result"
    }
   ],
   "source": [
    "X_in_int[1]"
   ]
  },
  {
   "cell_type": "code",
   "execution_count": 14,
   "metadata": {
    "colab": {
     "base_uri": "https://localhost:8080/",
     "height": 33
    },
    "colab_type": "code",
    "id": "OTMwxxR6refA",
    "outputId": "75bc9341-74ad-4657-8133-3b82467b750d"
   },
   "outputs": [
    {
     "data": {
      "text/plain": [
       "'youtube.com'"
      ]
     },
     "execution_count": 14,
     "metadata": {
      "tags": []
     },
     "output_type": "execute_result"
    }
   ],
   "source": [
    "X[1]"
   ]
  },
  {
   "cell_type": "code",
   "execution_count": 0,
   "metadata": {
    "colab": {},
    "colab_type": "code",
    "id": "pEakL4JdrefD"
   },
   "outputs": [],
   "source": [
    "#update X\n",
    "X = X_in_int"
   ]
  },
  {
   "cell_type": "code",
   "execution_count": 0,
   "metadata": {
    "colab": {},
    "colab_type": "code",
    "id": "yGlfRhF8refG"
   },
   "outputs": [],
   "source": [
    "#pad to max length\n",
    "X = sequence.pad_sequences(X, maxlen=maxlen)"
   ]
  },
  {
   "cell_type": "code",
   "execution_count": 17,
   "metadata": {
    "colab": {
     "base_uri": "https://localhost:8080/",
     "height": 33
    },
    "colab_type": "code",
    "id": "g0xSsqEsrefJ",
    "outputId": "7d3d80f9-1759-434e-e36f-18d66703e0c1"
   },
   "outputs": [
    {
     "data": {
      "text/plain": [
       "(3016336, 73)"
      ]
     },
     "execution_count": 17,
     "metadata": {
      "tags": []
     },
     "output_type": "execute_result"
    }
   ],
   "source": [
    "X.shape"
   ]
  },
  {
   "cell_type": "code",
   "execution_count": 0,
   "metadata": {
    "colab": {},
    "colab_type": "code",
    "id": "fB8hMNRVrefN"
   },
   "outputs": [],
   "source": [
    "#Generate corresponding Y, 0 for 'benign'; 1 for 'dga'\n",
    "Y = np.hstack([np.zeros(len(benign_domains)),np.ones(len(dga_domains))])"
   ]
  },
  {
   "cell_type": "markdown",
   "metadata": {
    "colab_type": "text",
    "id": "5ffqcgZArefQ"
   },
   "source": [
    "### Train the model\n",
    "Beacuse of the huge size of data, we decided to resample to get a smaller set for training."
   ]
  },
  {
   "cell_type": "markdown",
   "metadata": {
    "colab_type": "text",
    "id": "h5mVdgacrefR"
   },
   "source": [
    "Because of the size of benigns domains is 1M, the cut point will be the index of the last benigns domain, which will be:"
   ]
  },
  {
   "cell_type": "code",
   "execution_count": 21,
   "metadata": {
    "colab": {
     "base_uri": "https://localhost:8080/",
     "height": 33
    },
    "colab_type": "code",
    "id": "dGoyOfkHrefR",
    "outputId": "09150a00-9ae9-4aa9-b396-ab8e31f4ac6a"
   },
   "outputs": [
    {
     "name": "stdout",
     "output_type": "stream",
     "text": [
      "The cut point will be 1000000\n"
     ]
    }
   ],
   "source": [
    "pos_neg_cutpoint = len(benign_domains)\n",
    "print(\"The cut point will be \"+ str(pos_neg_cutpoint))"
   ]
  },
  {
   "cell_type": "markdown",
   "metadata": {
    "colab_type": "text",
    "id": "scOALQG0refU"
   },
   "source": [
    "Now, randomly select the same amount of domains from both benigns and dgas."
   ]
  },
  {
   "cell_type": "code",
   "execution_count": 0,
   "metadata": {
    "colab": {},
    "colab_type": "code",
    "id": "AdaiHDsSrefV"
   },
   "outputs": [],
   "source": [
    "import random"
   ]
  },
  {
   "cell_type": "code",
   "execution_count": 0,
   "metadata": {
    "colab": {},
    "colab_type": "code",
    "id": "8nWbbulxrefX"
   },
   "outputs": [],
   "source": [
    "#set new sampling szie as 50K\n",
    "sampling_size = 1000000\n",
    "\n",
    "pos_indices = random.sample(range(pos_neg_cutpoint),sampling_size)\n",
    "neg_indices = random.sample(range(pos_neg_cutpoint, len(X)),sampling_size)"
   ]
  },
  {
   "cell_type": "code",
   "execution_count": 0,
   "metadata": {
    "colab": {},
    "colab_type": "code",
    "id": "hN2l2GPTrefZ"
   },
   "outputs": [],
   "source": [
    "new_X = X[pos_indices + neg_indices]\n",
    "new_Y = Y[pos_indices + neg_indices]"
   ]
  },
  {
   "cell_type": "code",
   "execution_count": 69,
   "metadata": {
    "colab": {
     "base_uri": "https://localhost:8080/",
     "height": 33
    },
    "colab_type": "code",
    "id": "hx6CRDBFrefb",
    "outputId": "8b5c9dfc-2f52-47c5-e38a-cc023f615bed"
   },
   "outputs": [
    {
     "data": {
      "text/plain": [
       "(2000000, 73)"
      ]
     },
     "execution_count": 69,
     "metadata": {
      "tags": []
     },
     "output_type": "execute_result"
    }
   ],
   "source": [
    "new_X.shape"
   ]
  },
  {
   "cell_type": "code",
   "execution_count": 0,
   "metadata": {
    "colab": {},
    "colab_type": "code",
    "id": "Otwx6GAoreff"
   },
   "outputs": [],
   "source": [
    "newnew_x = np.reshape(new_X,(2000000,73,1))"
   ]
  },
  {
   "cell_type": "code",
   "execution_count": 71,
   "metadata": {
    "colab": {
     "base_uri": "https://localhost:8080/",
     "height": 33
    },
    "colab_type": "code",
    "id": "88aIouMsrefl",
    "outputId": "7d629f3e-3396-4121-995e-ee587172753f"
   },
   "outputs": [
    {
     "data": {
      "text/plain": [
       "(2000000, 73, 1)"
      ]
     },
     "execution_count": 71,
     "metadata": {
      "tags": []
     },
     "output_type": "execute_result"
    }
   ],
   "source": [
    "newnew_x.shape"
   ]
  },
  {
   "cell_type": "code",
   "execution_count": 72,
   "metadata": {
    "colab": {
     "base_uri": "https://localhost:8080/",
     "height": 33
    },
    "colab_type": "code",
    "id": "winEou6Trefn",
    "outputId": "e5c73b75-8555-4896-f48b-50390a7f3b3d"
   },
   "outputs": [
    {
     "data": {
      "text/plain": [
       "2000000"
      ]
     },
     "execution_count": 72,
     "metadata": {
      "tags": []
     },
     "output_type": "execute_result"
    }
   ],
   "source": [
    "len(new_X)"
   ]
  },
  {
   "cell_type": "markdown",
   "metadata": {
    "colab_type": "text",
    "id": "tYBLazl1refq"
   },
   "source": [
    "#### Fit the model"
   ]
  },
  {
   "cell_type": "code",
   "execution_count": 0,
   "metadata": {
    "colab": {},
    "colab_type": "code",
    "id": "b9AdMqAwrefq"
   },
   "outputs": [],
   "source": [
    "#training parameters\n",
    "\n",
    "max_epoch=25\n",
    "nfolds=10\n",
    "batch_size=128"
   ]
  },
  {
   "cell_type": "code",
   "execution_count": 0,
   "metadata": {
    "colab": {},
    "colab_type": "code",
    "id": "v55Na3o-reft"
   },
   "outputs": [],
   "source": [
    "#call backs\n",
    "from keras.callbacks import EarlyStopping\n",
    "cb = []\n",
    "\n",
    "cb.append(EarlyStopping(monitor='val_loss', \n",
    "                        min_delta=0, #an absolute change of less than min_delta, will count as no improvement\n",
    "                        patience=5, #number of epochs with no improvement after which training will be stopped\n",
    "                        verbose=0, \n",
    "                        mode='auto', \n",
    "                        baseline=None, \n",
    "                        restore_best_weights=False))"
   ]
  },
  {
   "cell_type": "code",
   "execution_count": 73,
   "metadata": {
    "colab": {
     "base_uri": "https://localhost:8080/",
     "height": 301
    },
    "colab_type": "code",
    "id": "xjQVayyirefw",
    "outputId": "8f3a771a-a706-42c2-924d-a2b5653a8573"
   },
   "outputs": [
    {
     "name": "stdout",
     "output_type": "stream",
     "text": [
      "_________________________________________________________________\n",
      "Layer (type)                 Output Shape              Param #   \n",
      "=================================================================\n",
      "conv1d_7 (Conv1D)            (None, 71, 32)            128       \n",
      "_________________________________________________________________\n",
      "max_pooling1d_7 (MaxPooling1 (None, 35, 32)            0         \n",
      "_________________________________________________________________\n",
      "dropout_7 (Dropout)          (None, 35, 32)            0         \n",
      "_________________________________________________________________\n",
      "flatten_6 (Flatten)          (None, 1120)              0         \n",
      "_________________________________________________________________\n",
      "dense_6 (Dense)              (None, 1)                 1121      \n",
      "=================================================================\n",
      "Total params: 1,249\n",
      "Trainable params: 1,249\n",
      "Non-trainable params: 0\n",
      "_________________________________________________________________\n"
     ]
    }
   ],
   "source": [
    "model = build_model(max_features_num, maxlen)\n",
    "model.summary()"
   ]
  },
  {
   "cell_type": "code",
   "execution_count": 74,
   "metadata": {
    "colab": {
     "base_uri": "https://localhost:8080/",
     "height": 354
    },
    "colab_type": "code",
    "id": "T90Jkt_uref0",
    "outputId": "12a0ed99-1b88-4eea-fada-6e8387a0f73c"
   },
   "outputs": [
    {
     "name": "stdout",
     "output_type": "stream",
     "text": [
      "Train on 1600000 samples, validate on 400000 samples\n",
      "Epoch 1/25\n",
      "1600000/1600000 [==============================] - 90s 56us/step - loss: 0.4544 - binary_crossentropy: 0.4461 - acc: 0.8004 - val_loss: 0.6121 - val_binary_crossentropy: 0.6057 - val_acc: 0.7303\n",
      "Epoch 2/25\n",
      "1600000/1600000 [==============================] - 89s 56us/step - loss: 0.4280 - binary_crossentropy: 0.4216 - acc: 0.8155 - val_loss: 0.5830 - val_binary_crossentropy: 0.5764 - val_acc: 0.7439\n",
      "Epoch 3/25\n",
      "1600000/1600000 [==============================] - 89s 55us/step - loss: 0.4184 - binary_crossentropy: 0.4118 - acc: 0.8211 - val_loss: 0.5203 - val_binary_crossentropy: 0.5139 - val_acc: 0.7674\n",
      "Epoch 4/25\n",
      "1600000/1600000 [==============================] - 88s 55us/step - loss: 0.4143 - binary_crossentropy: 0.4082 - acc: 0.8227 - val_loss: 0.5118 - val_binary_crossentropy: 0.5057 - val_acc: 0.7767\n",
      "Epoch 5/25\n",
      "1600000/1600000 [==============================] - 88s 55us/step - loss: 0.4129 - binary_crossentropy: 0.4071 - acc: 0.8234 - val_loss: 0.5230 - val_binary_crossentropy: 0.5171 - val_acc: 0.7721\n",
      "Epoch 6/25\n",
      "1600000/1600000 [==============================] - 88s 55us/step - loss: 0.4120 - binary_crossentropy: 0.4063 - acc: 0.8236 - val_loss: 0.5634 - val_binary_crossentropy: 0.5579 - val_acc: 0.7453\n",
      "Epoch 7/25\n",
      "1600000/1600000 [==============================] - 88s 55us/step - loss: 0.4113 - binary_crossentropy: 0.4057 - acc: 0.8240 - val_loss: 0.5362 - val_binary_crossentropy: 0.5305 - val_acc: 0.7557\n",
      "Epoch 8/25\n",
      "1600000/1600000 [==============================] - 87s 54us/step - loss: 0.4104 - binary_crossentropy: 0.4048 - acc: 0.8251 - val_loss: 0.5704 - val_binary_crossentropy: 0.5647 - val_acc: 0.7419\n",
      "Epoch 9/25\n",
      "1600000/1600000 [==============================] - 87s 54us/step - loss: 0.4093 - binary_crossentropy: 0.4036 - acc: 0.8256 - val_loss: 0.5565 - val_binary_crossentropy: 0.5509 - val_acc: 0.7450\n"
     ]
    }
   ],
   "source": [
    "history = model.fit(x=newnew_x, y=new_Y, \n",
    "                    batch_size=batch_size, \n",
    "                    epochs=max_epoch, \n",
    "                    verbose=1, \n",
    "                    callbacks=cb, \n",
    "                    validation_split=0.2, #\n",
    "                    validation_data=None, \n",
    "                    shuffle=True, \n",
    "                    class_weight=None, \n",
    "                    sample_weight=None, \n",
    "                    initial_epoch=0,\n",
    "                    steps_per_epoch=None, \n",
    "                    validation_steps=None)"
   ]
  },
  {
   "cell_type": "code",
   "execution_count": 0,
   "metadata": {
    "colab": {},
    "colab_type": "code",
    "id": "n3wSCPXBref2"
   },
   "outputs": [],
   "source": [
    "model.save('CNN_on_300K')"
   ]
  },
  {
   "cell_type": "markdown",
   "metadata": {
    "colab_type": "text",
    "id": "rU6LGfPiref3"
   },
   "source": [
    "#### Plot training & validation accuracy values "
   ]
  },
  {
   "cell_type": "code",
   "execution_count": 0,
   "metadata": {
    "colab": {},
    "colab_type": "code",
    "id": "rPVEhFG6ref4"
   },
   "outputs": [],
   "source": [
    "import matplotlib.pyplot as plt "
   ]
  },
  {
   "cell_type": "code",
   "execution_count": 75,
   "metadata": {
    "colab": {
     "base_uri": "https://localhost:8080/",
     "height": 376
    },
    "colab_type": "code",
    "id": "G5QefLEQref5",
    "outputId": "246d0dda-976e-46af-f2bf-974b11dea78e"
   },
   "outputs": [
    {
     "data": {
      "image/png": "[encoded data removed]",
      "text/plain": [
       "<matplotlib.figure.Figure at 0x7ff62604e898>"
      ]
     },
     "metadata": {
      "tags": []
     },
     "output_type": "display_data"
    }
   ],
   "source": [
    "# Plot training & validation accuracy values \n",
    "plt.plot(history.history['acc']) \n",
    "plt.plot(history.history['val_acc']) \n",
    "plt.title('Model accuracy') \n",
    "plt.ylabel('Accuracy') \n",
    "plt.xlabel('Epoch') \n",
    "plt.legend(['Train', 'Test'], loc='upper left') \n",
    "plt.show() "
   ]
  },
  {
   "cell_type": "code",
   "execution_count": 76,
   "metadata": {
    "colab": {
     "base_uri": "https://localhost:8080/",
     "height": 376
    },
    "colab_type": "code",
    "id": "mMFmt9EFref8",
    "outputId": "946d1a95-af47-488d-c354-107a95bce5b9"
   },
   "outputs": [
    {
     "data": {
      "image/png": "[encoded data removed]",
      "text/plain": [
       "<matplotlib.figure.Figure at 0x7ff6260717f0>"
      ]
     },
     "metadata": {
      "tags": []
     },
     "output_type": "display_data"
    }
   ],
   "source": [
    "\n",
    "# Plot training & validation loss values \n",
    "plt.plot(history.history['loss']) \n",
    "plt.plot(history.history['val_loss']) \n",
    "plt.title('Model loss') \n",
    "plt.ylabel('Loss') \n",
    "plt.xlabel('Epoch') \n",
    "plt.legend(['Train', 'Test'], loc='upper left') \n",
    "plt.show()"
   ]
  },
  {
   "cell_type": "code",
   "execution_count": 0,
   "metadata": {
    "colab": {},
    "colab_type": "code",
    "id": "XxHee_6yref-"
   },
   "outputs": [],
   "source": []
  },
  {
   "cell_type": "code",
   "execution_count": 0,
   "metadata": {
    "colab": {},
    "colab_type": "code",
    "id": "0Ken0x2HregA"
   },
   "outputs": [],
   "source": []
  },
  {
   "cell_type": "code",
   "execution_count": 0,
   "metadata": {
    "colab": {},
    "colab_type": "code",
    "id": "UY1NjmgtregE"
   },
   "outputs": [],
   "source": []
  }
 ],
 "metadata": {
  "accelerator": "GPU",
  "colab": {
   "name": "CNN_EX7.ipynb",
   "provenance": [],
   "toc_visible": true,
   "version": "0.3.2"
  },
  "kernelspec": {
   "display_name": "Python 3",
   "language": "python",
   "name": "python3"
  },
  "language_info": {
   "codemirror_mode": {
    "name": "ipython",
    "version": 3
   },
   "file_extension": ".py",
   "mimetype": "text/x-python",
   "name": "python",
   "nbconvert_exporter": "python",
   "pygments_lexer": "ipython3",
   "version": "3.6.6"
  }
 },
 "nbformat": 4,
 "nbformat_minor": 1
}
