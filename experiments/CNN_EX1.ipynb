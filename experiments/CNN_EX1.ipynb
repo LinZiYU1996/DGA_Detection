{
 "cells": [
  {
   "cell_type": "code",
   "execution_count": 79,
   "metadata": {},
   "outputs": [],
   "source": [
    "from keras.preprocessing import sequence\n",
    "from keras.models import Sequential\n",
    "from keras.layers.core import Dense, Dropout, Activation\n",
    "from keras.layers.embeddings import Embedding\n",
    "from keras.layers import Conv1D, MaxPooling1D, Input, Flatten\n",
    "import numpy as np\n",
    "import sklearn\n",
    "from sklearn.model_selection import train_test_split"
   ]
  },
  {
   "cell_type": "code",
   "execution_count": 4,
   "metadata": {},
   "outputs": [],
   "source": [
    "import DataProvider"
   ]
  },
  {
   "cell_type": "markdown",
   "metadata": {},
   "source": [
    "### Build CNN model"
   ]
  },
  {
   "cell_type": "code",
   "execution_count": 80,
   "metadata": {},
   "outputs": [],
   "source": [
    "def build_model(max_features_num, maxlen):\n",
    "    \"\"\"Build CNN model\"\"\"\n",
    "    model = Sequential()\n",
    "    model.add(Conv1D(64, 3, strides=1, \n",
    "                     input_shape=(maxlen,1),\n",
    "                     padding='valid', \n",
    "                     data_format='channels_last', \n",
    "                     dilation_rate=1, \n",
    "                     activation='relu', \n",
    "                     use_bias=True, \n",
    "                     kernel_initializer='glorot_uniform', \n",
    "                     bias_initializer='zeros', \n",
    "                     kernel_regularizer=None, \n",
    "                     bias_regularizer=None, \n",
    "                     activity_regularizer=None, \n",
    "                     kernel_constraint=None, \n",
    "                     bias_constraint=None))\n",
    "    model.add(MaxPooling1D(pool_size=2, \n",
    "                           strides=None, \n",
    "                           padding='valid', \n",
    "                           data_format='channels_last'))\n",
    "    model.add(Conv1D(32, 3, strides=1, \n",
    "                     padding='valid', \n",
    "                     data_format='channels_last', \n",
    "                     dilation_rate=1, \n",
    "                     activation='relu', \n",
    "                     use_bias=True, \n",
    "                     kernel_initializer='glorot_uniform', \n",
    "                     bias_initializer='zeros', \n",
    "                     kernel_regularizer=None, \n",
    "                     bias_regularizer=None, \n",
    "                     activity_regularizer=None, \n",
    "                     kernel_constraint=None, \n",
    "                     bias_constraint=None))\n",
    "    model.add(MaxPooling1D(pool_size=2, \n",
    "                           strides=None, \n",
    "                           padding='valid', \n",
    "                           data_format='channels_last'))\n",
    "    model.add(Flatten())\n",
    "    model.add(Dense(1,activation='sigmoid'))\n",
    "\n",
    "    model.compile(loss='binary_crossentropy',\n",
    "                  optimizer='rmsprop',\n",
    "                  metrics=['binary_crossentropy','acc'])\n",
    "\n",
    "    return model"
   ]
  },
  {
   "cell_type": "markdown",
   "metadata": {},
   "source": [
    "### Load data"
   ]
  },
  {
   "cell_type": "code",
   "execution_count": 8,
   "metadata": {},
   "outputs": [],
   "source": [
    "benigns, dgas = DataProvider.get_domains_data()\n",
    "X = benigns + dgas"
   ]
  },
  {
   "cell_type": "code",
   "execution_count": 9,
   "metadata": {},
   "outputs": [],
   "source": [
    "# Generate a dictionary of valid characters\n",
    "unique_chars = enumerate(set(''.join(X))) \n",
    "chars_dict = dict()\n",
    "for i, x in unique_chars: #index of enum starts with 0\n",
    "    #print('i: ' + str(i) + '  x: ' + x)\n",
    "    chars_dict[x] = i + 1 #leave 0 for padding"
   ]
  },
  {
   "cell_type": "code",
   "execution_count": 10,
   "metadata": {},
   "outputs": [],
   "source": [
    "#index 0 is also going to be a feature(padding/unknown).\n",
    "max_features_num = len(chars_dict) + 1\n",
    "\n",
    "#max length will be the max length of domain in our dataset\n",
    "maxlen = np.max([len(x) for x in X])"
   ]
  },
  {
   "cell_type": "code",
   "execution_count": 63,
   "metadata": {},
   "outputs": [
    {
     "data": {
      "text/plain": [
       "73"
      ]
     },
     "execution_count": 63,
     "metadata": {},
     "output_type": "execute_result"
    }
   ],
   "source": [
    "maxlen"
   ]
  },
  {
   "cell_type": "code",
   "execution_count": 11,
   "metadata": {},
   "outputs": [],
   "source": [
    "# Convert characters to int\n",
    "X_in_int = []\n",
    "for domain in X:\n",
    "    domain_in_int = []\n",
    "    for c in domain:\n",
    "        domain_in_int.append(chars_dict[c])\n",
    "    X_in_int.append(domain_in_int)"
   ]
  },
  {
   "cell_type": "code",
   "execution_count": 12,
   "metadata": {},
   "outputs": [
    {
     "data": {
      "text/plain": [
       "[13, 36, 25, 18, 25, 12, 9, 23, 35, 36, 7]"
      ]
     },
     "execution_count": 12,
     "metadata": {},
     "output_type": "execute_result"
    }
   ],
   "source": [
    "X_in_int[1]"
   ]
  },
  {
   "cell_type": "code",
   "execution_count": 13,
   "metadata": {},
   "outputs": [
    {
     "data": {
      "text/plain": [
       "'youtube.com'"
      ]
     },
     "execution_count": 13,
     "metadata": {},
     "output_type": "execute_result"
    }
   ],
   "source": [
    "X[1]"
   ]
  },
  {
   "cell_type": "code",
   "execution_count": 14,
   "metadata": {},
   "outputs": [],
   "source": [
    "#update X\n",
    "X = X_in_int"
   ]
  },
  {
   "cell_type": "code",
   "execution_count": 15,
   "metadata": {},
   "outputs": [],
   "source": [
    "#pad to max length\n",
    "X = sequence.pad_sequences(X, maxlen=maxlen)"
   ]
  },
  {
   "cell_type": "code",
   "execution_count": 58,
   "metadata": {},
   "outputs": [
    {
     "data": {
      "text/plain": [
       "(3016336, 73)"
      ]
     },
     "execution_count": 58,
     "metadata": {},
     "output_type": "execute_result"
    }
   ],
   "source": [
    "X.shape"
   ]
  },
  {
   "cell_type": "code",
   "execution_count": 16,
   "metadata": {},
   "outputs": [],
   "source": [
    "#Generate corresponding Y, 0 for 'benign'; 1 for 'dga'\n",
    "Y = np.hstack([np.zeros(len(benigns)),np.ones(len(dgas))])"
   ]
  },
  {
   "cell_type": "markdown",
   "metadata": {},
   "source": [
    "### Train the model\n",
    "Beacuse of the huge size of data, we decided to resample to get a smaller set for training."
   ]
  },
  {
   "cell_type": "markdown",
   "metadata": {},
   "source": [
    "Because of the size of benigns domains is 1M, the cut point will be the index of the last benigns domain, which will be:"
   ]
  },
  {
   "cell_type": "code",
   "execution_count": 17,
   "metadata": {},
   "outputs": [
    {
     "name": "stdout",
     "output_type": "stream",
     "text": [
      "The cut point will be 1000000\n"
     ]
    }
   ],
   "source": [
    "pos_neg_cutpoint = len(benigns)\n",
    "print(\"The cut point will be \"+ str(pos_neg_cutpoint))"
   ]
  },
  {
   "cell_type": "markdown",
   "metadata": {},
   "source": [
    "Now, randomly select the same amount of domains from both benigns and dgas."
   ]
  },
  {
   "cell_type": "code",
   "execution_count": 19,
   "metadata": {},
   "outputs": [],
   "source": [
    "import random"
   ]
  },
  {
   "cell_type": "code",
   "execution_count": 87,
   "metadata": {},
   "outputs": [],
   "source": [
    "#set new sampling szie as 50K\n",
    "sampling_size = 150000\n",
    "\n",
    "pos_indices = random.sample(range(pos_neg_cutpoint),sampling_size)\n",
    "neg_indices = random.sample(range(pos_neg_cutpoint, len(X)),sampling_size)"
   ]
  },
  {
   "cell_type": "code",
   "execution_count": 88,
   "metadata": {},
   "outputs": [],
   "source": [
    "new_X = X[pos_indices + neg_indices]\n",
    "new_Y = Y[pos_indices + neg_indices]"
   ]
  },
  {
   "cell_type": "code",
   "execution_count": 89,
   "metadata": {},
   "outputs": [
    {
     "data": {
      "text/plain": [
       "(300000, 73)"
      ]
     },
     "execution_count": 89,
     "metadata": {},
     "output_type": "execute_result"
    }
   ],
   "source": [
    "new_X.shape"
   ]
  },
  {
   "cell_type": "code",
   "execution_count": 91,
   "metadata": {},
   "outputs": [],
   "source": [
    "newnew_x = np.reshape(new_X,(300000,73,1))"
   ]
  },
  {
   "cell_type": "code",
   "execution_count": 92,
   "metadata": {},
   "outputs": [
    {
     "data": {
      "text/plain": [
       "(300000, 73, 1)"
      ]
     },
     "execution_count": 92,
     "metadata": {},
     "output_type": "execute_result"
    }
   ],
   "source": [
    "newnew_x.shape"
   ]
  },
  {
   "cell_type": "code",
   "execution_count": 93,
   "metadata": {},
   "outputs": [
    {
     "data": {
      "text/plain": [
       "300000"
      ]
     },
     "execution_count": 93,
     "metadata": {},
     "output_type": "execute_result"
    }
   ],
   "source": [
    "len(new_X)"
   ]
  },
  {
   "cell_type": "markdown",
   "metadata": {},
   "source": [
    "#### Fit the model"
   ]
  },
  {
   "cell_type": "code",
   "execution_count": 94,
   "metadata": {},
   "outputs": [],
   "source": [
    "#training parameters\n",
    "\n",
    "max_epoch=25\n",
    "nfolds=10\n",
    "batch_size=128"
   ]
  },
  {
   "cell_type": "code",
   "execution_count": 95,
   "metadata": {},
   "outputs": [],
   "source": [
    "#call backs\n",
    "from keras.callbacks import EarlyStopping\n",
    "cb = []\n",
    "\n",
    "cb.append(EarlyStopping(monitor='val_loss', \n",
    "                        min_delta=0, #an absolute change of less than min_delta, will count as no improvement\n",
    "                        patience=2, #number of epochs with no improvement after which training will be stopped\n",
    "                        verbose=0, \n",
    "                        mode='auto', \n",
    "                        baseline=None, \n",
    "                        restore_best_weights=False))"
   ]
  },
  {
   "cell_type": "code",
   "execution_count": 96,
   "metadata": {},
   "outputs": [
    {
     "name": "stdout",
     "output_type": "stream",
     "text": [
      "_________________________________________________________________\n",
      "Layer (type)                 Output Shape              Param #   \n",
      "=================================================================\n",
      "conv1d_22 (Conv1D)           (None, 71, 64)            256       \n",
      "_________________________________________________________________\n",
      "max_pooling1d_18 (MaxPooling (None, 35, 64)            0         \n",
      "_________________________________________________________________\n",
      "conv1d_23 (Conv1D)           (None, 33, 32)            6176      \n",
      "_________________________________________________________________\n",
      "max_pooling1d_19 (MaxPooling (None, 16, 32)            0         \n",
      "_________________________________________________________________\n",
      "flatten_2 (Flatten)          (None, 512)               0         \n",
      "_________________________________________________________________\n",
      "dense_10 (Dense)             (None, 1)                 513       \n",
      "=================================================================\n",
      "Total params: 6,945\n",
      "Trainable params: 6,945\n",
      "Non-trainable params: 0\n",
      "_________________________________________________________________\n"
     ]
    }
   ],
   "source": [
    "model = build_model(max_features_num, maxlen)\n",
    "model.summary()"
   ]
  },
  {
   "cell_type": "code",
   "execution_count": 97,
   "metadata": {},
   "outputs": [
    {
     "name": "stdout",
     "output_type": "stream",
     "text": [
      "Train on 240000 samples, validate on 60000 samples\n",
      "Epoch 1/25\n",
      "240000/240000 [==============================] - 38s 158us/step - loss: 0.4408 - binary_crossentropy: 0.4408 - acc: 0.7994 - val_loss: 0.7800 - val_binary_crossentropy: 0.7800 - val_acc: 0.6464\n",
      "Epoch 2/25\n",
      "240000/240000 [==============================] - 38s 157us/step - loss: 0.3821 - binary_crossentropy: 0.3821 - acc: 0.8348 - val_loss: 0.5306 - val_binary_crossentropy: 0.5306 - val_acc: 0.7395\n",
      "Epoch 3/25\n",
      "240000/240000 [==============================] - 38s 158us/step - loss: 0.3559 - binary_crossentropy: 0.3559 - acc: 0.8481 - val_loss: 0.4673 - val_binary_crossentropy: 0.4673 - val_acc: 0.7718\n",
      "Epoch 4/25\n",
      "240000/240000 [==============================] - 38s 159us/step - loss: 0.3375 - binary_crossentropy: 0.3375 - acc: 0.8570 - val_loss: 0.4152 - val_binary_crossentropy: 0.4152 - val_acc: 0.8043\n",
      "Epoch 5/25\n",
      "240000/240000 [==============================] - 38s 158us/step - loss: 0.3235 - binary_crossentropy: 0.3235 - acc: 0.8658 - val_loss: 0.4796 - val_binary_crossentropy: 0.4796 - val_acc: 0.7803\n",
      "Epoch 6/25\n",
      "240000/240000 [==============================] - 38s 160us/step - loss: 0.3123 - binary_crossentropy: 0.3123 - acc: 0.8706 - val_loss: 0.4598 - val_binary_crossentropy: 0.4598 - val_acc: 0.7831\n"
     ]
    }
   ],
   "source": [
    "history = model.fit(x=newnew_x, y=new_Y, \n",
    "                    batch_size=batch_size, \n",
    "                    epochs=max_epoch, \n",
    "                    verbose=1, \n",
    "                    callbacks=cb, \n",
    "                    validation_split=0.2, #\n",
    "                    validation_data=None, \n",
    "                    shuffle=True, \n",
    "                    class_weight=None, \n",
    "                    sample_weight=None, \n",
    "                    initial_epoch=0,\n",
    "                    steps_per_epoch=None, \n",
    "                    validation_steps=None)"
   ]
  },
  {
   "cell_type": "code",
   "execution_count": 98,
   "metadata": {},
   "outputs": [],
   "source": [
    "model.save('CNN_on_300K')"
   ]
  },
  {
   "cell_type": "markdown",
   "metadata": {},
   "source": [
    "#### Plot training & validation accuracy values "
   ]
  },
  {
   "cell_type": "code",
   "execution_count": 99,
   "metadata": {},
   "outputs": [],
   "source": [
    "import matplotlib.pyplot as plt "
   ]
  },
  {
   "cell_type": "code",
   "execution_count": 100,
   "metadata": {},
   "outputs": [
    {
     "data": {
      "image/png": "[encoded data removed]",
      "text/plain": [
       "<Figure size 432x288 with 1 Axes>"
      ]
     },
     "metadata": {
      "needs_background": "light"
     },
     "output_type": "display_data"
    }
   ],
   "source": [
    "# Plot training & validation accuracy values \n",
    "plt.plot(history.history['acc']) \n",
    "plt.plot(history.history['val_acc']) \n",
    "plt.title('Model accuracy') \n",
    "plt.ylabel('Accuracy') \n",
    "plt.xlabel('Epoch') \n",
    "plt.legend(['Train', 'Test'], loc='upper left') \n",
    "plt.show() "
   ]
  },
  {
   "cell_type": "code",
   "execution_count": 101,
   "metadata": {},
   "outputs": [
    {
     "data": {
      "image/png": "[encoded data removed]",
      "text/plain": [
       "<Figure size 432x288 with 1 Axes>"
      ]
     },
     "metadata": {
      "needs_background": "light"
     },
     "output_type": "display_data"
    }
   ],
   "source": [
    "\n",
    "# Plot training & validation loss values \n",
    "plt.plot(history.history['loss']) \n",
    "plt.plot(history.history['val_loss']) \n",
    "plt.title('Model loss') \n",
    "plt.ylabel('Loss') \n",
    "plt.xlabel('Epoch') \n",
    "plt.legend(['Train', 'Test'], loc='upper left') \n",
    "plt.show()"
   ]
  },
  {
   "cell_type": "markdown",
   "metadata": {},
   "source": [
    "### Legacy code"
   ]
  },
  {
   "cell_type": "code",
   "execution_count": null,
   "metadata": {},
   "outputs": [],
   "source": [
    "output_data = []\n",
    "\n",
    "for fold in range(nfolds):\n",
    "    print(\"fold %u/%u\" % (fold+1, nfolds))\n",
    "    X_train, X_test, y_train, y_test = train_test_split(X, Y, test_size=0.2)\n",
    "\n",
    "    print('Build model...')\n",
    "    model = build_model(max_features_num, maxlen)\n",
    "\n",
    "    print(\"Train...\")\n",
    "    X_train, X_holdout, y_train, y_holdout = train_test_split(X_train, y_train, test_size=0.05)\n",
    "    best_iter = -1\n",
    "    best_auc = 0.0\n",
    "    out_data = {}\n",
    "\n",
    "    for ep in range(max_epoch):\n",
    "        model.fit(X_train, y_train, batch_size=batch_size, nb_epoch=1)\n",
    "\n",
    "        t_probs = model.predict_proba(X_holdout)\n",
    "        t_auc = sklearn.metrics.roc_auc_score(y_holdout, t_probs)\n",
    "\n",
    "        print('Epoch %d: auc = %f (best=%f)' % (ep, t_auc, best_auc))\n",
    "\n",
    "        if t_auc > best_auc:\n",
    "            best_auc = t_auc\n",
    "            best_iter = ep\n",
    "\n",
    "            probs = model.predict_proba(X_test)\n",
    "\n",
    "            out_data = {'y':y_test, 'probs':probs, 'epochs': ep,\n",
    "                        'confusion_matrix': sklearn.metrics.confusion_matrix(y_test, probs > .5)}\n",
    "\n",
    "            print(sklearn.metrics.confusion_matrix(y_test, probs > .5))\n",
    "        else:\n",
    "            # No longer improving...break and calculate statistics\n",
    "            if (ep-best_iter) > 2:\n",
    "                break\n",
    "\n",
    "    output_data.append(out_data)"
   ]
  }
 ],
 "metadata": {
  "kernelspec": {
   "display_name": "Python 3",
   "language": "python",
   "name": "python3"
  },
  "language_info": {
   "codemirror_mode": {
    "name": "ipython",
    "version": 3
   },
   "file_extension": ".py",
   "mimetype": "text/x-python",
   "name": "python",
   "nbconvert_exporter": "python",
   "pygments_lexer": "ipython3",
   "version": "3.6.6"
  }
 },
 "nbformat": 4,
 "nbformat_minor": 2
}
